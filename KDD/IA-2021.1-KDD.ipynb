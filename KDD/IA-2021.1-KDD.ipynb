{
 "cells": [
  {
   "cell_type": "code",
   "execution_count": 202,
   "metadata": {
    "scrolled": true
   },
   "outputs": [
    {
     "data": {
      "text/html": [
       "<div>\n",
       "<style scoped>\n",
       "    .dataframe tbody tr th:only-of-type {\n",
       "        vertical-align: middle;\n",
       "    }\n",
       "\n",
       "    .dataframe tbody tr th {\n",
       "        vertical-align: top;\n",
       "    }\n",
       "\n",
       "    .dataframe thead th {\n",
       "        text-align: right;\n",
       "    }\n",
       "</style>\n",
       "<table border=\"1\" class=\"dataframe\">\n",
       "  <thead>\n",
       "    <tr style=\"text-align: right;\">\n",
       "      <th></th>\n",
       "      <th>Survived</th>\n",
       "      <th>Pclass</th>\n",
       "      <th>Sex</th>\n",
       "      <th>Age</th>\n",
       "      <th>Fare</th>\n",
       "      <th>Embarked</th>\n",
       "    </tr>\n",
       "  </thead>\n",
       "  <tbody>\n",
       "    <tr>\n",
       "      <th>0</th>\n",
       "      <td>0</td>\n",
       "      <td>3</td>\n",
       "      <td>male</td>\n",
       "      <td>22.0</td>\n",
       "      <td>7.2500</td>\n",
       "      <td>S</td>\n",
       "    </tr>\n",
       "    <tr>\n",
       "      <th>1</th>\n",
       "      <td>1</td>\n",
       "      <td>1</td>\n",
       "      <td>female</td>\n",
       "      <td>38.0</td>\n",
       "      <td>71.2833</td>\n",
       "      <td>C</td>\n",
       "    </tr>\n",
       "    <tr>\n",
       "      <th>2</th>\n",
       "      <td>1</td>\n",
       "      <td>3</td>\n",
       "      <td>female</td>\n",
       "      <td>26.0</td>\n",
       "      <td>7.9250</td>\n",
       "      <td>S</td>\n",
       "    </tr>\n",
       "    <tr>\n",
       "      <th>3</th>\n",
       "      <td>1</td>\n",
       "      <td>1</td>\n",
       "      <td>female</td>\n",
       "      <td>35.0</td>\n",
       "      <td>53.1000</td>\n",
       "      <td>S</td>\n",
       "    </tr>\n",
       "    <tr>\n",
       "      <th>4</th>\n",
       "      <td>0</td>\n",
       "      <td>3</td>\n",
       "      <td>male</td>\n",
       "      <td>35.0</td>\n",
       "      <td>8.0500</td>\n",
       "      <td>S</td>\n",
       "    </tr>\n",
       "  </tbody>\n",
       "</table>\n",
       "</div>"
      ],
      "text/plain": [
       "   Survived  Pclass     Sex   Age     Fare Embarked\n",
       "0         0       3    male  22.0   7.2500        S\n",
       "1         1       1  female  38.0  71.2833        C\n",
       "2         1       3  female  26.0   7.9250        S\n",
       "3         1       1  female  35.0  53.1000        S\n",
       "4         0       3    male  35.0   8.0500        S"
      ]
     },
     "execution_count": 202,
     "metadata": {},
     "output_type": "execute_result"
    }
   ],
   "source": [
    "import pandas as pd\n",
    "import numpy as np\n",
    "\n",
    "path = \"dataset/titanic/\"\n",
    "dt_train = pd.read_csv(path+\"train.csv\", usecols=['Survived', 'Pclass', 'Sex', 'Age', 'Fare', 'Embarked']).dropna()\n",
    "\n",
    "dt_train.head()"
   ]
  },
  {
   "cell_type": "code",
   "execution_count": 203,
   "metadata": {},
   "outputs": [],
   "source": [
    "# Transformando os dados de texto para dados numéricos:\n",
    "\n",
    "dt_train.replace(['male', 'female'], [0,1], inplace=True)\n",
    "dt_train['Embarked'].replace(['S', 'C', 'Q'], [1,2,3], inplace=True)"
   ]
  },
  {
   "cell_type": "code",
   "execution_count": 204,
   "metadata": {
    "scrolled": true
   },
   "outputs": [
    {
     "data": {
      "text/html": [
       "<div>\n",
       "<style scoped>\n",
       "    .dataframe tbody tr th:only-of-type {\n",
       "        vertical-align: middle;\n",
       "    }\n",
       "\n",
       "    .dataframe tbody tr th {\n",
       "        vertical-align: top;\n",
       "    }\n",
       "\n",
       "    .dataframe thead th {\n",
       "        text-align: right;\n",
       "    }\n",
       "</style>\n",
       "<table border=\"1\" class=\"dataframe\">\n",
       "  <thead>\n",
       "    <tr style=\"text-align: right;\">\n",
       "      <th></th>\n",
       "      <th>Survived</th>\n",
       "      <th>Pclass</th>\n",
       "      <th>Sex</th>\n",
       "      <th>Age</th>\n",
       "      <th>Fare</th>\n",
       "      <th>Embarked</th>\n",
       "    </tr>\n",
       "  </thead>\n",
       "  <tbody>\n",
       "    <tr>\n",
       "      <th>0</th>\n",
       "      <td>0</td>\n",
       "      <td>3</td>\n",
       "      <td>0</td>\n",
       "      <td>22.0</td>\n",
       "      <td>7.2500</td>\n",
       "      <td>1</td>\n",
       "    </tr>\n",
       "    <tr>\n",
       "      <th>1</th>\n",
       "      <td>1</td>\n",
       "      <td>1</td>\n",
       "      <td>1</td>\n",
       "      <td>38.0</td>\n",
       "      <td>71.2833</td>\n",
       "      <td>2</td>\n",
       "    </tr>\n",
       "    <tr>\n",
       "      <th>2</th>\n",
       "      <td>1</td>\n",
       "      <td>3</td>\n",
       "      <td>1</td>\n",
       "      <td>26.0</td>\n",
       "      <td>7.9250</td>\n",
       "      <td>1</td>\n",
       "    </tr>\n",
       "    <tr>\n",
       "      <th>3</th>\n",
       "      <td>1</td>\n",
       "      <td>1</td>\n",
       "      <td>1</td>\n",
       "      <td>35.0</td>\n",
       "      <td>53.1000</td>\n",
       "      <td>1</td>\n",
       "    </tr>\n",
       "    <tr>\n",
       "      <th>4</th>\n",
       "      <td>0</td>\n",
       "      <td>3</td>\n",
       "      <td>0</td>\n",
       "      <td>35.0</td>\n",
       "      <td>8.0500</td>\n",
       "      <td>1</td>\n",
       "    </tr>\n",
       "  </tbody>\n",
       "</table>\n",
       "</div>"
      ],
      "text/plain": [
       "   Survived  Pclass  Sex   Age     Fare  Embarked\n",
       "0         0       3    0  22.0   7.2500         1\n",
       "1         1       1    1  38.0  71.2833         2\n",
       "2         1       3    1  26.0   7.9250         1\n",
       "3         1       1    1  35.0  53.1000         1\n",
       "4         0       3    0  35.0   8.0500         1"
      ]
     },
     "execution_count": 204,
     "metadata": {},
     "output_type": "execute_result"
    }
   ],
   "source": [
    "dt_train.head()"
   ]
  },
  {
   "cell_type": "code",
   "execution_count": 205,
   "metadata": {},
   "outputs": [],
   "source": [
    "def finalEntropy(entropies, total):\n",
    "    entropy = 0\n",
    "    for t, e in zip(total, entropies):\n",
    "        if np.isnan(e):\n",
    "            e = 0\n",
    "        entropy = entropy + t/sum(total)*e\n",
    "    return entropy\n",
    "\n",
    "def innerFunc(denominator, survived, notSurvived):\n",
    "    return (-(notSurvived/denominator*np.log2(notSurvived/denominator))-(survived/denominator*np.log2(survived/denominator)))\n",
    "\n",
    "def entropyCalculator(dt_caracteristic, dt_survived, intervalList=None):\n",
    "    s_total = []\n",
    "    entropies = []\n",
    "    temp = 0\n",
    "    if intervalList:\n",
    "        for inter in intervalList:\n",
    "            notSurvived = dt_train[(dt_caracteristic>temp) & (dt_caracteristic<=inter) & (dt_survived==0)].count()[0]\n",
    "            survived = dt_train[(dt_caracteristic>temp) & (dt_caracteristic<=inter) & (dt_survived==1)].count()[0]\n",
    "            temp = inter\n",
    "            total = notSurvived+survived\n",
    "            s_total.append(total)\n",
    "            entropies.append(innerFunc(total, survived, notSurvived))\n",
    "    else:\n",
    "        for p in dt_caracteristic.unique():\n",
    "            notSurvived = dt_train[(dt_caracteristic==p) & (dt_survived==0)].count()[0]\n",
    "            survived = dt_train[(dt_caracteristic==p) & (dt_survived==1)].count()[0]\n",
    "            total = notSurvived+survived\n",
    "            s_total.append(total)\n",
    "            entropies.append(innerFunc(total, survived, notSurvived))\n",
    "    return finalEntropy(entropies, s_total)\n",
    "\n",
    "def targetClassEntropy(dt_class):\n",
    "    for p in dt_class.unique():\n",
    "            notSurvived = dt_train[dt_class==0].count()[0]\n",
    "            survived = dt_train[dt_class==1].count()[0]\n",
    "            total = notSurvived+survived\n",
    "            s_total.append(total)\n",
    "            entropies.append(innerFunc(total, survived, notSurvived))\n",
    "    return finalEntropy(entropies, s_total)"
   ]
  },
  {
   "cell_type": "code",
   "execution_count": 206,
   "metadata": {},
   "outputs": [
    {
     "data": {
      "text/plain": [
       "0.9735190023846807"
      ]
     },
     "execution_count": 206,
     "metadata": {},
     "output_type": "execute_result"
    }
   ],
   "source": [
    "gainList = []\n",
    "\n",
    "SurvivedEntropy = targetClassEntropy(dt_train['Survived'])\n",
    "SurvivedEntropy"
   ]
  },
  {
   "cell_type": "code",
   "execution_count": 207,
   "metadata": {
    "scrolled": true
   },
   "outputs": [],
   "source": [
    "PClassEntropy = entropyCalculator(dt_train['Pclass'], dt_train['Survived'])\n",
    "gainList.append(['PClass', SurvivedEntropy - PClassEntropy])"
   ]
  },
  {
   "cell_type": "code",
   "execution_count": 208,
   "metadata": {},
   "outputs": [],
   "source": [
    "SexEntropy = entropyCalculator(dt_train['Sex'], dt_train['Survived'])\n",
    "gainList.append(['Sex', SurvivedEntropy - SexEntropy])"
   ]
  },
  {
   "cell_type": "code",
   "execution_count": 209,
   "metadata": {},
   "outputs": [],
   "source": [
    "age_interval = [30, 50, 80]\n",
    "AgeEntropy = entropyCalculator(dt_train['Age'], dt_train['Survived'], age_interval)\n",
    "gainList.append(['Age', SurvivedEntropy - AgeEntropy])"
   ]
  },
  {
   "cell_type": "code",
   "execution_count": 210,
   "metadata": {},
   "outputs": [],
   "source": [
    "fare_interval = [128, 256, 384]\n",
    "FareEntropy = entropyCalculator(dt_train['Fare'], dt_train['Survived'], fare_interval)\n",
    "gainList.append(['Fare', SurvivedEntropy - FareEntropy])"
   ]
  },
  {
   "cell_type": "code",
   "execution_count": 211,
   "metadata": {},
   "outputs": [],
   "source": [
    "EmbarkedEntropy = entropyCalculator(dt_train['Embarked'], dt_train['Survived'])\n",
    "gainList.append(['Embarked', SurvivedEntropy - EmbarkedEntropy])"
   ]
  },
  {
   "cell_type": "code",
   "execution_count": 212,
   "metadata": {},
   "outputs": [
    {
     "data": {
      "text/plain": [
       "[['PClass', 0.09400998456880594],\n",
       " ['Sex', 0.21410831283572285],\n",
       " ['Age', 0.0016444881735017125],\n",
       " ['Fare', 0.015799848969737185],\n",
       " ['Embarked', 0.027858206925991946]]"
      ]
     },
     "execution_count": 212,
     "metadata": {},
     "output_type": "execute_result"
    }
   ],
   "source": [
    "gainList"
   ]
  },
  {
   "cell_type": "code",
   "execution_count": null,
   "metadata": {},
   "outputs": [],
   "source": []
  },
  {
   "cell_type": "code",
   "execution_count": null,
   "metadata": {},
   "outputs": [],
   "source": []
  },
  {
   "cell_type": "code",
   "execution_count": null,
   "metadata": {},
   "outputs": [],
   "source": []
  },
  {
   "cell_type": "code",
   "execution_count": 213,
   "metadata": {},
   "outputs": [],
   "source": [
    "# Implementação do Grafo:\n",
    "\n",
    "from collections import defaultdict\n",
    "\n",
    "class Node():\n",
    "    def __init__(self, data):\n",
    "        self.data = data\n",
    "\n",
    "\n",
    "class Grafo(object):\n",
    "\n",
    "    def __init__(self, direcionado=False):\n",
    "        self.adj = defaultdict(set)\n",
    "        self.direcionado = direcionado\n",
    "\n",
    "\n",
    "    def get_vertices(self):\n",
    "        return list(self.adj.keys())\n",
    "\n",
    "\n",
    "    def get_arestas(self):\n",
    "        return [(k, v) for k in self.adj.keys() for v in self.adj[k]]\n",
    "\n",
    "\n",
    "    def adiciona_arestas(self, node1, node2):\n",
    "        self.adiciona_arco(node1, node2)\n",
    "\n",
    "\n",
    "    def __adiciona_arco__(self, node1, node2):\n",
    "        self.adj[node1].add(node2)\n",
    "        if not self.direcionado:\n",
    "            self.adj[node2].add(node1)\n",
    "\n",
    "\n",
    "    def existe_aresta(self, node1, node2):\n",
    "        return node1 in self.adj and node2 in self.adj[node1]\n",
    "\n",
    "\n",
    "    def __len__(self):\n",
    "        return len(self.adj)\n",
    "\n",
    "\n",
    "    def __str__(self):\n",
    "        return '{}({})'.format(self.__class__.__name__, dict(self.adj))\n",
    "\n",
    "\n",
    "    def __getitem__(self, node2):\n",
    "        return self.adj[node2]"
   ]
  },
  {
   "cell_type": "code",
   "execution_count": null,
   "metadata": {},
   "outputs": [],
   "source": []
  },
  {
   "cell_type": "code",
   "execution_count": null,
   "metadata": {},
   "outputs": [],
   "source": []
  },
  {
   "cell_type": "code",
   "execution_count": null,
   "metadata": {},
   "outputs": [],
   "source": []
  },
  {
   "cell_type": "code",
   "execution_count": null,
   "metadata": {},
   "outputs": [],
   "source": []
  },
  {
   "cell_type": "code",
   "execution_count": null,
   "metadata": {},
   "outputs": [],
   "source": []
  },
  {
   "cell_type": "code",
   "execution_count": null,
   "metadata": {},
   "outputs": [],
   "source": []
  },
  {
   "cell_type": "code",
   "execution_count": null,
   "metadata": {},
   "outputs": [],
   "source": []
  },
  {
   "cell_type": "code",
   "execution_count": null,
   "metadata": {},
   "outputs": [],
   "source": []
  },
  {
   "cell_type": "code",
   "execution_count": null,
   "metadata": {},
   "outputs": [],
   "source": []
  }
 ],
 "metadata": {
  "kernelspec": {
   "display_name": "Python 3",
   "language": "python",
   "name": "python3"
  },
  "language_info": {
   "codemirror_mode": {
    "name": "ipython",
    "version": 3
   },
   "file_extension": ".py",
   "mimetype": "text/x-python",
   "name": "python",
   "nbconvert_exporter": "python",
   "pygments_lexer": "ipython3",
   "version": "3.8.5"
  }
 },
 "nbformat": 4,
 "nbformat_minor": 4
}
