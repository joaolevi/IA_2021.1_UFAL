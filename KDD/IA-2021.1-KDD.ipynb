{
 "cells": [
  {
   "cell_type": "code",

   "execution_count": 61,

   "metadata": {
    "scrolled": true
   },
   "outputs": [
    {
     "data": {
      "text/html": [
       "<div>\n",
       "<style scoped>\n",
       "    .dataframe tbody tr th:only-of-type {\n",
       "        vertical-align: middle;\n",
       "    }\n",
       "\n",
       "    .dataframe tbody tr th {\n",
       "        vertical-align: top;\n",
       "    }\n",
       "\n",
       "    .dataframe thead th {\n",
       "        text-align: right;\n",
       "    }\n",
       "</style>\n",
       "<table border=\"1\" class=\"dataframe\">\n",
       "  <thead>\n",
       "    <tr style=\"text-align: right;\">\n",
       "      <th></th>\n",
       "      <th>Survived</th>\n",
       "      <th>Pclass</th>\n",
       "      <th>Sex</th>\n",
       "      <th>Age</th>\n",
       "      <th>Fare</th>\n",
       "      <th>Embarked</th>\n",
       "    </tr>\n",
       "  </thead>\n",
       "  <tbody>\n",
       "    <tr>\n",
       "      <th>0</th>\n",
       "      <td>0</td>\n",
       "      <td>3</td>\n",
       "      <td>male</td>\n",
       "      <td>22.0</td>\n",
       "      <td>7.2500</td>\n",
       "      <td>S</td>\n",
       "    </tr>\n",
       "    <tr>\n",
       "      <th>1</th>\n",
       "      <td>1</td>\n",
       "      <td>1</td>\n",
       "      <td>female</td>\n",
       "      <td>38.0</td>\n",
       "      <td>71.2833</td>\n",
       "      <td>C</td>\n",
       "    </tr>\n",
       "    <tr>\n",
       "      <th>2</th>\n",
       "      <td>1</td>\n",
       "      <td>3</td>\n",
       "      <td>female</td>\n",
       "      <td>26.0</td>\n",
       "      <td>7.9250</td>\n",
       "      <td>S</td>\n",
       "    </tr>\n",
       "    <tr>\n",
       "      <th>3</th>\n",
       "      <td>1</td>\n",
       "      <td>1</td>\n",
       "      <td>female</td>\n",
       "      <td>35.0</td>\n",
       "      <td>53.1000</td>\n",
       "      <td>S</td>\n",
       "    </tr>\n",
       "    <tr>\n",
       "      <th>4</th>\n",
       "      <td>0</td>\n",
       "      <td>3</td>\n",
       "      <td>male</td>\n",
       "      <td>35.0</td>\n",
       "      <td>8.0500</td>\n",
       "      <td>S</td>\n",
       "    </tr>\n",
       "  </tbody>\n",
       "</table>\n",
       "</div>"
      ],
      "text/plain": [
       "   Survived  Pclass     Sex   Age     Fare Embarked\n",
       "0         0       3    male  22.0   7.2500        S\n",
       "1         1       1  female  38.0  71.2833        C\n",
       "2         1       3  female  26.0   7.9250        S\n",
       "3         1       1  female  35.0  53.1000        S\n",
       "4         0       3    male  35.0   8.0500        S"
      ]
     },

     "execution_count": 61,

     "metadata": {},
     "output_type": "execute_result"
    }
   ],
   "source": [
    "import pandas as pd\n",
    "import numpy as np\n",

    "import networkx as nx\n",

    "\n",
    "path = \"dataset/titanic/\"\n",
    "dt_train = pd.read_csv(path+\"train.csv\", usecols=['Survived', 'Pclass', 'Sex', 'Age', 'Fare', 'Embarked']).dropna()\n",
    "\n",
    "dt_train.head()"
   ]
  },
  {
   "cell_type": "code",

   "execution_count": 62,
   "metadata": {},
   "outputs": [],
   "source": [
    "# Transformando os dados de texto para dados numéricos e inteiros:\n",
    "\n",
    "dt_train.replace(['male', 'female'], [0,1], inplace=True)\n",
    "dt_train['Embarked'].replace(['S', 'C', 'Q'], [1,2,3], inplace=True)\n",
    "freq = frequencyList(dt_train['Age'])"
   ]
  },
  {
   "cell_type": "code",

   "execution_count": 63,

   "metadata": {
    "scrolled": true
   },
   "outputs": [
    {
     "data": {
      "text/html": [
       "<div>\n",
       "<style scoped>\n",
       "    .dataframe tbody tr th:only-of-type {\n",
       "        vertical-align: middle;\n",
       "    }\n",
       "\n",
       "    .dataframe tbody tr th {\n",
       "        vertical-align: top;\n",
       "    }\n",
       "\n",
       "    .dataframe thead th {\n",
       "        text-align: right;\n",
       "    }\n",
       "</style>\n",
       "<table border=\"1\" class=\"dataframe\">\n",
       "  <thead>\n",
       "    <tr style=\"text-align: right;\">\n",
       "      <th></th>\n",
       "      <th>Survived</th>\n",
       "      <th>Pclass</th>\n",
       "      <th>Sex</th>\n",
       "      <th>Age</th>\n",
       "      <th>Fare</th>\n",
       "      <th>Embarked</th>\n",
       "    </tr>\n",
       "  </thead>\n",
       "  <tbody>\n",
       "    <tr>\n",
       "      <th>0</th>\n",
       "      <td>0</td>\n",
       "      <td>3</td>\n",
       "      <td>0</td>\n",
       "      <td>22.0</td>\n",
       "      <td>7.2500</td>\n",
       "      <td>1</td>\n",
       "    </tr>\n",
       "    <tr>\n",
       "      <th>1</th>\n",
       "      <td>1</td>\n",
       "      <td>1</td>\n",
       "      <td>1</td>\n",
       "      <td>38.0</td>\n",
       "      <td>71.2833</td>\n",
       "      <td>2</td>\n",
       "    </tr>\n",
       "    <tr>\n",
       "      <th>2</th>\n",
       "      <td>1</td>\n",
       "      <td>3</td>\n",
       "      <td>1</td>\n",
       "      <td>26.0</td>\n",
       "      <td>7.9250</td>\n",
       "      <td>1</td>\n",
       "    </tr>\n",
       "    <tr>\n",
       "      <th>3</th>\n",
       "      <td>1</td>\n",
       "      <td>1</td>\n",
       "      <td>1</td>\n",
       "      <td>35.0</td>\n",
       "      <td>53.1000</td>\n",
       "      <td>1</td>\n",
       "    </tr>\n",
       "    <tr>\n",
       "      <th>4</th>\n",
       "      <td>0</td>\n",
       "      <td>3</td>\n",
       "      <td>0</td>\n",
       "      <td>35.0</td>\n",
       "      <td>8.0500</td>\n",
       "      <td>1</td>\n",
       "    </tr>\n",
       "  </tbody>\n",
       "</table>\n",
       "</div>"
      ],
      "text/plain": [
       "   Survived  Pclass  Sex   Age     Fare  Embarked\n",
       "0         0       3    0  22.0   7.2500         1\n",
       "1         1       1    1  38.0  71.2833         2\n",
       "2         1       3    1  26.0   7.9250         1\n",
       "3         1       1    1  35.0  53.1000         1\n",
       "4         0       3    0  35.0   8.0500         1"
      ]
     },

     "execution_count": 63,
     "metadata": {},
     "output_type": "execute_result"
    }
   ],
   "source": [
    "dt_train.head()"
   ]
  },
  {
   "cell_type": "code",

   "execution_count": 64,
   "metadata": {},
   "outputs": [],
   "source": [
    "def classInterval(dataFrame):\n",
    "    numClasses = 1 + np.log2(dataFrame.count())\n",
    "    return int((dataFrame.max()-dataFrame.min())/numClasses)\n",
    "\n",
    "def frequencyList(dataFrame):\n",
    "    freqList = []\n",
    "    interval = classInterval(dataFrame)\n",
    "    for tam in range(int(dataFrame.min()), int(dataFrame.max()), interval):\n",
    "        freqList.append(tam)\n",
    "    return freqList\n",
    "\n",
    "def isContinuous(dataFrame):\n",
    "    if np.size(dataFrame.unique()) >= 10:\n",
    "        return True\n",
    "    else:\n",
    "        return False\n",
    "\n",

    "def finalEntropy(entropies, total):\n",
    "    entropy = 0\n",
    "    for t, e in zip(total, entropies):\n",
    "        if np.isnan(e):\n",
    "            e = 0\n",
    "        entropy = entropy + t/sum(total)*e\n",
    "    return entropy\n",
    "\n",
    "def innerFunc(denominator, survived, notSurvived):\n",

    "    if denominator == 0 or survived == 0 or notSurvived == 0:\n",
    "        return 0\n",
    "    return (-(notSurvived/denominator*np.log2(notSurvived/denominator))-(survived/denominator*np.log2(survived/denominator)))\n",
    "\n",
    "def gain_calculator(dt_train, targClass_name):\n",
    "    s_total = []\n",
    "    entropies = []\n",
    "    gainList = []\n",
    "    temp = 0\n",
    "    targClass = dt_train[targClass_name]\n",
    "    targEntropy = targetClassEntropy(dt_train[targClass_name])\n",
    "    for class_ in dt_train:\n",
    "        if not(class_ == targClass_name):\n",
    "            dt_caracteristic = dt_train[class_]\n",
    "            if isContinuous(dt_caracteristic):\n",
    "                intervalList = frequencyList(dt_caracteristic)\n",
    "                for inter in intervalList:\n",
    "                    notSurvived = dt_train[(dt_caracteristic>temp) & (dt_caracteristic<=inter) & (targClass==0)].count()[0]\n",
    "                    survived = dt_train[(dt_caracteristic>temp) & (dt_caracteristic<=inter) & (targClass==1)].count()[0]\n",
    "                    temp = inter\n",
    "                    total = notSurvived+survived\n",
    "                    s_total.append(total)\n",
    "                    entropies.append(innerFunc(total, survived, notSurvived))\n",
    "            else:\n",
    "                for p in dt_caracteristic.unique():\n",
    "                    notSurvived = dt_train[(dt_caracteristic==p) & (targClass==0)].count()[0]\n",
    "                    survived = dt_train[(dt_caracteristic==p) & (targClass==1)].count()[0]\n",
    "                    total = notSurvived+survived\n",
    "                    s_total.append(total)\n",
    "                    entropies.append(innerFunc(total, survived, notSurvived))\n",
    "            classEntropy = finalEntropy(entropies, s_total)\n",
    "            gainList.append([class_, (targEntropy - classEntropy)])\n",
    "    return gainList\n",
    "\n",
    "def gain_calculator2(dt_train, targClass_name, interval=None, attribut=None):\n",
    "    s_total = []\n",
    "    entropies = []\n",
    "    gainList = []\n",
    "    temp = 0\n",
    "    targClass = dt_train[targClass_name]\n",
    "    targEntropy = targetClassEntropy(dt_train[targClass_name])\n",
    "    for class_ in dt_train:\n",
    "        dt_caracteristic = dt_train[class_]\n",
    "        if isContinuous(dt_caracteristic):\n",
    "            notSurvived = dt_train[(dt_caracteristic>interval[0]) & (dt_caracteristic<=interval[1]) & (targClass==0)].count()[0]\n",
    "            survived = dt_train[(dt_caracteristic>interval[0]) & (dt_caracteristic<=interval[1]) & (targClass==1)].count()[0]\n",
    "            total = notSurvived+survived\n",
    "            s_total.append(total)\n",
    "            entropies.append(innerFunc(total, survived, notSurvived))\n",
    "        else:\n",
    "            notSurvived = dt_train[(dt_caracteristic==attribut) & (targClass==0)].count()[0]\n",
    "            survived = dt_train[(dt_caracteristic==attribut) & (targClass==1)].count()[0]\n",
    "            total = notSurvived+survived\n",
    "            s_total.append(total)\n",
    "            entropies.append(innerFunc(total, survived, notSurvived))\n",
    "        classEntropy = finalEntropy(entropies, s_total)\n",
    "        gainList.append([class_, (targEntropy - classEntropy)])\n",
    "    return gainList\n",
    "\n",
    "def targetClassEntropy(dt_class):\n",
    "    s_total = []\n",
    "    entropies = []\n",
    "    for p in dt_class.unique():\n",
    "        notSurvived = dt_train[dt_class==0].count()[0]\n",
    "        survived = dt_train[dt_class==1].count()[0]\n",
    "        total = notSurvived+survived\n",
    "        s_total.append(total)\n",
    "        entropies.append(innerFunc(total, survived, notSurvived))\n",

    "    return finalEntropy(entropies, s_total)"
   ]
  },
  {
   "cell_type": "code",

   "execution_count": 66,
   "metadata": {},
   "outputs": [],
   "source": [
    "def verificar(dataFrame, targClass):\n",
    "    if np.size(dataFrame[targClass].unique()) == 1:\n",
    "        return True\n",
    "    else:\n",
    "        return False\n",
    "    \n",
    "def bestGain(attributs):\n",
    "    best = 0\n",
    "    index = 0\n",
    "    for i in range(attributs.size):\n",
    "        if best < attributs[i][1]:\n",
    "            best = attributs[i][1]\n",
    "            index = i\n",
    "    return index\n",
    "\n",
    "def geraNo(dataFrame, atributo, targClass_name, no_atual, no_value):\n",
    "    verif = verificar(dataFrame, targClass_name)\n",
    "    if verif:\n",
    "        no_value += 1\n",
    "        v = survived.unique().item()\n",
    "        g.add_node(no_value, result=v)\n",
    "        g.add_edge(no_atual, no_value, condition=atributo)\n",
    "    if dataFrame.columns.size > 1:\n",
    "        gain = gain_calculator(dataFrame, targClass_name)\n",
    "        index = bestGain(gain)\n",
    "        #####\n",
    "        if atributos > 0:\n",
    "            pass\n",
    "        else:\n",
    "            pass\n",
    "    else:\n",
    "        #Cria folha com a classe\n",
    "        if dataFrame[targClass==1].count() > dataFrame[targClass==0].count():\n",
    "            dataFrame = dataFrame[targClass==1]\n",
    "            if isContinuous(dataFrame):\n",
    "                newNode = Node(dataFrame.name, dataFrame.value.min(), 1, isContinous=True)\n",
    "            else:\n",
    "                tam = 0\n",
    "                condition = None\n",
    "                for at in dataFrame.unique():\n",
    "                    if dataFrame[dataFrame==at].count() > tam:\n",
    "                        tam = dataFrame[dataFrame==at].count()\n",
    "                        condition = at\n",
    "                newNode = Node(dataFrame.name, condition, 1, isContinous=False)\n",
    "        else:\n",
    "            dataFrame = dataFrame[targClass==0]\n",
    "            if isContinuous(dataFrame):\n",
    "                newNode = Node(dataFrame.name, dataFrame.value.min(), 0, isContinous=True)\n",
    "            else:\n",
    "                tam = 0\n",
    "                condition = None\n",
    "                for at in dataFrame.unique():\n",
    "                    if dataFrame[dataFrame==at].count() > tam:\n",
    "                        tam = dataFrame[dataFrame==at].count()\n",
    "                        condition = at\n",
    "                newNode = Node(dataFrame.name, condition, 0, isContinous=False)\n",
    "    \n",
    "    "
   ]
  },
  {
   "cell_type": "code",

   "execution_count": 67,

   "metadata": {},
   "outputs": [
    {
     "data": {
      "text/plain": [

       "[['Pclass', 0.09400998456880616],\n",
       " ['Sex', 0.15405914870226456],\n",
       " ['Age', 0.11380147316047828],\n",
       " ['Fare', 0.10127070898784996],\n",
       " ['Embarked', 0.08654270068465386]]"
      ]
     },
     "execution_count": 67,

     "metadata": {},
     "output_type": "execute_result"
    }
   ],
   "source": [

    "gain = gain_calculator(dt_train, 'Survived')\n",
    "gain"

   ]
  },
  {
   "cell_type": "code",
   "execution_count": null,
   "metadata": {},
   "outputs": [],
   "source": []
  },
  {
   "cell_type": "code",
   "execution_count": null,
   "metadata": {},
   "outputs": [],
   "source": []
  },
  {
   "cell_type": "code",
   "execution_count": null,
   "metadata": {},
   "outputs": [],
   "source": []
  },
  {
   "cell_type": "code",
   "execution_count": null,
   "metadata": {},
   "outputs": [],
   "source": []
  },
  {
   "cell_type": "code",
   "execution_count": null,
   "metadata": {},
   "outputs": [],
   "source": []
  },
  {
   "cell_type": "code",
   "execution_count": null,
   "metadata": {},
   "outputs": [],
   "source": []
  },
  {
   "cell_type": "code",
   "execution_count": null,
   "metadata": {},
   "outputs": [],
   "source": []
  },
  {
   "cell_type": "code",
   "execution_count": null,
   "metadata": {},
   "outputs": [],
   "source": []


  }
 ],
 "metadata": {
  "kernelspec": {
   "display_name": "Python 3",
   "language": "python",
   "name": "python3"
  },
  "language_info": {
   "codemirror_mode": {
    "name": "ipython",
    "version": 3
   },
   "file_extension": ".py",
   "mimetype": "text/x-python",
   "name": "python",
   "nbconvert_exporter": "python",
   "pygments_lexer": "ipython3",
   "version": "3.8.5"
  }
 },
 "nbformat": 4,
 "nbformat_minor": 4
}
